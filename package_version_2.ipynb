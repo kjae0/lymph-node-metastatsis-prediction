{
 "cells": [
  {
   "cell_type": "code",
   "execution_count": 2,
   "metadata": {},
   "outputs": [],
   "source": [
    "import torch\n",
    "import torchvision\n",
    "import sys\n",
    "import numpy\n",
    "import pandas\n",
    "import sklearn"
   ]
  },
  {
   "cell_type": "code",
   "execution_count": 4,
   "metadata": {},
   "outputs": [
    {
     "name": "stdout",
     "output_type": "stream",
     "text": [
      "python version : 3.9.13 | packaged by conda-forge | (main, May 27 2022, 16:58:50) \n",
      "[GCC 10.3.0]\n",
      "sklearn version : 1.1.2\n",
      "numpy version : 1.23.2\n",
      "pandas version : 1.4.3\n",
      "pytorch version : 1.12.1+cu116\n",
      "torchvision version : 0.13.1+cu116\n"
     ]
    }
   ],
   "source": [
    "print(f'python version : {sys.version}')\n",
    "print(f'sklearn version : {sklearn.__version__}') \n",
    "print(f'numpy version : {numpy.__version__}') \n",
    "print(f'pandas version : {pandas.__version__}') \n",
    "print(f'pytorch version : {torch.__version__}')\n",
    "print(f'torchvision version : {torchvision.__version__}')\n",
    "\n",
    "# python version : 3.9.13 | packaged by conda-forge | (main, May 27 2022, 16:58:50) \n",
    "# [GCC 10.3.0]\n",
    "# sklearn version : 1.1.2\n",
    "# numpy version : 1.23.2\n",
    "# pandas version : 1.4.3\n",
    "# pytorch version : 1.12.1+cu116\n",
    "# torchvision version : 0.13.1+cu116"
   ]
  }
 ],
 "metadata": {
  "kernelspec": {
   "display_name": "Python 3.8.13 ('dacon')",
   "language": "python",
   "name": "python3"
  },
  "language_info": {
   "codemirror_mode": {
    "name": "ipython",
    "version": 3
   },
   "file_extension": ".py",
   "mimetype": "text/x-python",
   "name": "python",
   "nbconvert_exporter": "python",
   "pygments_lexer": "ipython3",
   "version": "3.8.13 (default, Mar 28 2022, 06:59:08) [MSC v.1916 64 bit (AMD64)]"
  },
  "orig_nbformat": 4,
  "vscode": {
   "interpreter": {
    "hash": "a57ae18ef9e90c22d4157306b8cabd48cb1ce2f0eea9db9b3a8e7d505f128f69"
   }
  }
 },
 "nbformat": 4,
 "nbformat_minor": 2
}
