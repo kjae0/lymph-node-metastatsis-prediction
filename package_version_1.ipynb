{
 "cells": [
  {
   "cell_type": "code",
   "execution_count": 5,
   "metadata": {},
   "outputs": [],
   "source": [
    "import torch\n",
    "import pandas\n",
    "import numpy\n",
    "import autogluon\n",
    "import sklearn\n",
    "import sys"
   ]
  },
  {
   "cell_type": "code",
   "execution_count": 21,
   "metadata": {},
   "outputs": [
    {
     "name": "stdout",
     "output_type": "stream",
     "text": [
      "python version : 3.8.15 (default, Nov 24 2022, 14:38:14) [MSC v.1916 64 bit (AMD64)]\n",
      "sklearn version : 1.1.3\n",
      "numpy version : 1.22.4\n",
      "pandas version : 1.5.2\n",
      "pytorch version : 1.12.1+cpu\n"
     ]
    }
   ],
   "source": [
    "print(f'python version : {sys.version}')\n",
    "print(f'sklearn version : {sklearn.__version__}') \n",
    "print(f'numpy version : {numpy.__version__}') \n",
    "print(f'pandas version : {pandas.__version__}') \n",
    "print(f'pytorch version : {torch.__version__}')\n",
    "\n",
    "# python version : 3.8.15 (default, Nov 24 2022, 14:38:14) [MSC v.1916 64 bit (AMD64)]\n",
    "# sklearn version : 1.1.3\n",
    "# numpy version : 1.22.4\n",
    "# pandas version : 1.5.2\n",
    "# pytorch version : 1.12.1+cpu\n",
    "# autogluon version 0.6.0 (default)"
   ]
  }
 ],
 "metadata": {
  "kernelspec": {
   "display_name": "Python 3.8.15 ('sub')",
   "language": "python",
   "name": "python3"
  },
  "language_info": {
   "codemirror_mode": {
    "name": "ipython",
    "version": 3
   },
   "file_extension": ".py",
   "mimetype": "text/x-python",
   "name": "python",
   "nbconvert_exporter": "python",
   "pygments_lexer": "ipython3",
   "version": "3.8.15 (default, Nov 24 2022, 14:38:14) [MSC v.1916 64 bit (AMD64)]"
  },
  "orig_nbformat": 4,
  "vscode": {
   "interpreter": {
    "hash": "09165304530bcfd06d3900b667717337a988810a1cdae57e5f06ea09cf34b1b6"
   }
  }
 },
 "nbformat": 4,
 "nbformat_minor": 2
}
